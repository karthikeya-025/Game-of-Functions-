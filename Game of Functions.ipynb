{
 "cells": [
  {
   "cell_type": "code",
   "execution_count": 10,
   "id": "ea4f7477",
   "metadata": {},
   "outputs": [],
   "source": [
    "#Using For loop\n",
    "def sum_of_list_1(list1):\n",
    "    sumofList = 0\n",
    "    for i in list1:\n",
    "        sumofList += i\n",
    "    return sumofList\n"
   ]
  },
  {
   "cell_type": "code",
   "execution_count": 9,
   "id": "1b384dc5",
   "metadata": {},
   "outputs": [],
   "source": [
    "#Using sum method in python\n",
    "def sum_of_list_2(list2):\n",
    "    return sum(list2)"
   ]
  },
  {
   "cell_type": "code",
   "execution_count": 12,
   "id": "1b6c7c8c",
   "metadata": {},
   "outputs": [
    {
     "name": "stdout",
     "output_type": "stream",
     "text": [
      "Enter a list : (8, 2, 3, 0, 7)\n",
      "20\n",
      "20\n"
     ]
    }
   ],
   "source": [
    "list_ = eval(input(\"Enter a list : \"))\n",
    "sum_list_1 = sum_of_list_1(list_)\n",
    "print(sum_list_1)\n",
    "sum_list_2 = sum_of_list_2(list_)\n",
    "print(sum_list_2)"
   ]
  }
 ],
 "metadata": {
  "kernelspec": {
   "display_name": "Python 3 (ipykernel)",
   "language": "python",
   "name": "python3"
  },
  "language_info": {
   "codemirror_mode": {
    "name": "ipython",
    "version": 3
   },
   "file_extension": ".py",
   "mimetype": "text/x-python",
   "name": "python",
   "nbconvert_exporter": "python",
   "pygments_lexer": "ipython3",
   "version": "3.10.9"
  }
 },
 "nbformat": 4,
 "nbformat_minor": 5
}
